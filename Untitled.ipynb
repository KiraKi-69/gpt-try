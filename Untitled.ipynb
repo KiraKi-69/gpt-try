{
 "cells": [
  {
   "cell_type": "code",
   "execution_count": 3,
   "id": "33c75be9-ddc8-497f-96ec-6882c4e62cfb",
   "metadata": {},
   "outputs": [],
   "source": [
    "import mlflow"
   ]
  },
  {
   "cell_type": "code",
   "execution_count": 4,
   "id": "0eb7d968-f351-485a-9ab2-dd9438c4926e",
   "metadata": {},
   "outputs": [],
   "source": [
    "import os\n",
    "os.environ[\"MLFLOW_TRACKING_URI\"] = \"http://localhost:5000\""
   ]
  },
  {
   "cell_type": "code",
   "execution_count": 5,
   "id": "40ba8f87-9673-4630-a621-1d102c2ecaa0",
   "metadata": {},
   "outputs": [],
   "source": [
    "mlflow.set_tracking_uri(\"http://localhost:5000\")"
   ]
  },
  {
   "cell_type": "code",
   "execution_count": 6,
   "id": "41748d43-ea70-4456-b347-db490d9eec41",
   "metadata": {},
   "outputs": [
    {
     "name": "stderr",
     "output_type": "stream",
     "text": [
      "\"export\" ­Ґ пў«пҐвбп ў­гваҐ­­Ґ© Ё«Ё ў­Ґи­Ґ©\n",
      "Є®¬ ­¤®©, ЁбЇ®«­пҐ¬®© Їа®Ја ¬¬®© Ё«Ё Ї ЄҐв­л¬ д ©«®¬.\n"
     ]
    }
   ],
   "source": [
    "!export MLFLOW_TRACKING_URI=http://localhost:5000"
   ]
  },
  {
   "cell_type": "code",
   "execution_count": 7,
   "id": "6b00897e-cfbd-4f46-b273-4b463a825bf4",
   "metadata": {},
   "outputs": [
    {
     "name": "stdout",
     "output_type": "stream",
     "text": [
      "MLflow Version: 2.5.0\n",
      "MLflow Tracking URI: http://localhost:5000\n",
      "Options:\n",
      "  experiment: LLM_chain\n",
      "  output_dir: D:\\Projects\\Kira\\gpt-try\\tmp\\LLM_chain\n",
      "  notebook_formats: \n",
      "Databricks REST client: http://localhost:5000\\api/2.0\n",
      "Exporting experiment 'LLM_chain' (ID 449190257040005705) to 'D:\\Projects\\Kira\\gpt-try\\tmp\\LLM_chain'\n",
      "Exporting run 1: 58f78eb7099f4e928deb40afb3436826 of experiment 449190257040005705\n",
      "All 1 runs succesfully exported for experiment 'LLM_chain' (ID: 449190257040005705)\n"
     ]
    }
   ],
   "source": [
    "!export-experiment \\\n",
    "  --experiment LLM_chain \\\n",
    "  --output-dir D:\\Projects\\Kira\\gpt-try\\tmp\\LLM_chain"
   ]
  },
  {
   "cell_type": "code",
   "execution_count": 8,
   "id": "9f642734-287b-43ec-935d-ea741927216c",
   "metadata": {},
   "outputs": [
    {
     "name": "stdout",
     "output_type": "stream",
     "text": [
      "MLflow Version: 2.5.0\n",
      "MLflow Tracking URI: http://localhost:5000\n",
      "Options:\n",
      "  experiment: Log_predictions\n",
      "  output_dir: D:\\Projects\\Kira\\gpt-try\\tmp\\Log_predictions\n",
      "  notebook_formats: \n",
      "Databricks REST client: http://localhost:5000\\api/2.0\n",
      "Exporting experiment 'Log_predictions' (ID 471621854094804547) to 'D:\\Projects\\Kira\\gpt-try\\tmp\\Log_predictions'\n",
      "Exporting run 1: 10eafad44489437e9c7793ee1a5e2a26 of experiment 471621854094804547\n",
      "All 1 runs succesfully exported for experiment 'Log_predictions' (ID: 471621854094804547)\n"
     ]
    }
   ],
   "source": [
    "!export-experiment \\\n",
    "  --experiment Log_predictions \\\n",
    "  --output-dir D:\\Projects\\Kira\\gpt-try\\tmp\\Log_predictions"
   ]
  },
  {
   "cell_type": "code",
   "execution_count": 9,
   "id": "3ae9a9e7-eff1-4d15-b615-2b4386d773a8",
   "metadata": {},
   "outputs": [
    {
     "name": "stdout",
     "output_type": "stream",
     "text": [
      "MLflow Version: 2.5.0\n",
      "MLflow Tracking URI: http://localhost:5000\n",
      "Options:\n",
      "  experiment: compare\n",
      "  output_dir: D:\\Projects\\Kira\\gpt-try\\tmp\\compare\n",
      "  notebook_formats: \n",
      "Databricks REST client: http://localhost:5000\\api/2.0\n",
      "Exporting experiment 'compare' (ID 851522948199225234) to 'D:\\Projects\\Kira\\gpt-try\\tmp\\compare'\n",
      "Exporting run 1: 9859bf824134453183e9376888885669 of experiment 851522948199225234\n",
      "Exporting run 2: 1c9189d2ffaf44d6a2f4fe83ed742e51 of experiment 851522948199225234\n",
      "Exporting run 3: 4307ccca16054adf9343b15f7749c939 of experiment 851522948199225234\n",
      "All 3 runs succesfully exported for experiment 'compare' (ID: 851522948199225234)\n"
     ]
    }
   ],
   "source": [
    "!export-experiment \\\n",
    "  --experiment compare \\\n",
    "  --output-dir D:\\Projects\\Kira\\gpt-try\\tmp\\compare"
   ]
  }
 ],
 "metadata": {
  "kernelspec": {
   "display_name": "Python 3 (ipykernel)",
   "language": "python",
   "name": "python3"
  },
  "language_info": {
   "codemirror_mode": {
    "name": "ipython",
    "version": 3
   },
   "file_extension": ".py",
   "mimetype": "text/x-python",
   "name": "python",
   "nbconvert_exporter": "python",
   "pygments_lexer": "ipython3",
   "version": "3.9.12"
  }
 },
 "nbformat": 4,
 "nbformat_minor": 5
}

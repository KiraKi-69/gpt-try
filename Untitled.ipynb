{
 "cells": [
  {
   "cell_type": "code",
   "execution_count": 10,
   "id": "cfe33329-0298-4394-a334-e4a10f158ab0",
   "metadata": {},
   "outputs": [],
   "source": [
    "import os "
   ]
  },
  {
   "cell_type": "code",
   "execution_count": 11,
   "id": "8f1d470b-288d-4598-b0e9-6857b11b38b9",
   "metadata": {},
   "outputs": [
    {
     "name": "stdout",
     "output_type": "stream",
     "text": [
      "http://dognauts-gpt-mlflow-mlflow-tracking\n"
     ]
    }
   ],
   "source": [
    "print(os.environ.get('MLFLOW_TRACKING_URI'))"
   ]
  },
  {
   "cell_type": "code",
   "execution_count": 12,
   "id": "afdcd93f-f1d6-4a8f-9669-2c399e1c9a8b",
   "metadata": {},
   "outputs": [
    {
     "name": "stdout",
     "output_type": "stream",
     "text": [
      "https://app.demo.ml.neoflex.ru/auth/\n"
     ]
    }
   ],
   "source": [
    "print(os.environ.get('APP_KEYCLOAK_URL'))"
   ]
  },
  {
   "cell_type": "code",
   "execution_count": 13,
   "id": "3551cc33-bad9-4c35-85af-2ef3c0fb1e30",
   "metadata": {},
   "outputs": [
    {
     "name": "stdout",
     "output_type": "stream",
     "text": [
      "None\n"
     ]
    }
   ],
   "source": [
    "print(os.environ.get('APP_CLIENT_ID'))"
   ]
  },
  {
   "cell_type": "code",
   "execution_count": 14,
   "id": "247c2b17-6910-4300-933e-44b690db7df6",
   "metadata": {},
   "outputs": [
    {
     "name": "stdout",
     "output_type": "stream",
     "text": [
      "demo\n"
     ]
    }
   ],
   "source": [
    "print(os.environ.get('APP_REALM_NAME'))"
   ]
  },
  {
   "cell_type": "code",
   "execution_count": 15,
   "id": "6b780a8b-4a2b-4fcc-a8da-5a4355a9c722",
   "metadata": {},
   "outputs": [
    {
     "name": "stdout",
     "output_type": "stream",
     "text": [
      "None\n"
     ]
    }
   ],
   "source": [
    "print(os.environ.get('USERNAME'))"
   ]
  },
  {
   "cell_type": "code",
   "execution_count": 16,
   "id": "167ca903-e5fa-4887-bd93-0f9de46cd2f4",
   "metadata": {},
   "outputs": [
    {
     "name": "stdout",
     "output_type": "stream",
     "text": [
      "None\n"
     ]
    }
   ],
   "source": [
    "print(os.environ.get('PASSWORD'))"
   ]
  },
  {
   "cell_type": "code",
   "execution_count": 9,
   "id": "8b59fe4c-79f6-415b-8b0a-12a8353a64e9",
   "metadata": {},
   "outputs": [],
   "source": [
    "import mlflow \n",
    "\n",
    "mlflow.start_run()\n",
    "mlflow.log_param(\"my\", \"param\")\n",
    "mlflow.log_metric(\"score\", 100)\n",
    "mlflow.end_run()"
   ]
  },
  {
   "cell_type": "code",
   "execution_count": 23,
   "id": "8e777d7a-8d56-4360-9817-17ac9959c453",
   "metadata": {},
   "outputs": [
    {
     "name": "stdout",
     "output_type": "stream",
     "text": [
      "Requirement already satisfied: mlflow-export-import in /opt/conda/lib/python3.8/site-packages (1.2.0)\n",
      "Requirement already satisfied: mlflow>=1.28.0 in /opt/conda/lib/python3.8/site-packages (from mlflow-export-import) (1.28.0)\n",
      "Requirement already satisfied: shortuuid in /opt/conda/lib/python3.8/site-packages (from mlflow-export-import) (1.0.11)\n",
      "Requirement already satisfied: pytest-html in /opt/conda/lib/python3.8/site-packages (from mlflow-export-import) (3.2.0)\n",
      "Requirement already satisfied: wheel in /opt/conda/lib/python3.8/site-packages (from mlflow-export-import) (0.36.2)\n",
      "Requirement already satisfied: pytest>=7.2.0 in /opt/conda/lib/python3.8/site-packages (from mlflow-export-import) (7.4.0)\n",
      "Requirement already satisfied: alembic<2 in /opt/conda/lib/python3.8/site-packages (from mlflow>=1.28.0->mlflow-export-import) (1.8.1)\n",
      "Requirement already satisfied: Flask<3 in /opt/conda/lib/python3.8/site-packages (from mlflow>=1.28.0->mlflow-export-import) (2.2.2)\n",
      "Requirement already satisfied: packaging<22 in /opt/conda/lib/python3.8/site-packages (from mlflow>=1.28.0->mlflow-export-import) (20.9)\n",
      "Requirement already satisfied: querystring-parser<2 in /opt/conda/lib/python3.8/site-packages (from mlflow>=1.28.0->mlflow-export-import) (1.2.4)\n",
      "Requirement already satisfied: databricks-cli<1,>=0.8.7 in /opt/conda/lib/python3.8/site-packages (from mlflow>=1.28.0->mlflow-export-import) (0.17.3)\n",
      "Requirement already satisfied: entrypoints<1 in /opt/conda/lib/python3.8/site-packages (from mlflow>=1.28.0->mlflow-export-import) (0.3)\n",
      "Requirement already satisfied: gitpython<4,>=2.1.0 in /opt/conda/lib/python3.8/site-packages (from mlflow>=1.28.0->mlflow-export-import) (3.1.27)\n",
      "Requirement already satisfied: pandas<2 in /opt/conda/lib/python3.8/site-packages (from mlflow>=1.28.0->mlflow-export-import) (1.2.4)\n",
      "Requirement already satisfied: requests<3,>=2.17.3 in /opt/conda/lib/python3.8/site-packages (from mlflow>=1.28.0->mlflow-export-import) (2.25.1)\n",
      "Requirement already satisfied: prometheus-flask-exporter<1 in /opt/conda/lib/python3.8/site-packages (from mlflow>=1.28.0->mlflow-export-import) (0.20.3)\n",
      "Requirement already satisfied: click<9,>=7.0 in /opt/conda/lib/python3.8/site-packages (from mlflow>=1.28.0->mlflow-export-import) (8.1.3)\n",
      "Requirement already satisfied: numpy<2 in /opt/conda/lib/python3.8/site-packages (from mlflow>=1.28.0->mlflow-export-import) (1.22.3)\n",
      "Requirement already satisfied: pyyaml<7,>=5.1 in /opt/conda/lib/python3.8/site-packages (from mlflow>=1.28.0->mlflow-export-import) (5.4.1)\n",
      "Requirement already satisfied: scipy<2 in /opt/conda/lib/python3.8/site-packages (from mlflow>=1.28.0->mlflow-export-import) (1.7.0)\n",
      "Requirement already satisfied: importlib-metadata!=4.7.0,<5,>=3.7.0 in /opt/conda/lib/python3.8/site-packages (from mlflow>=1.28.0->mlflow-export-import) (4.12.0)\n",
      "Requirement already satisfied: cloudpickle<3 in /opt/conda/lib/python3.8/site-packages (from mlflow>=1.28.0->mlflow-export-import) (1.6.0)\n",
      "Requirement already satisfied: gunicorn<21 in /opt/conda/lib/python3.8/site-packages (from mlflow>=1.28.0->mlflow-export-import) (20.1.0)\n",
      "Requirement already satisfied: docker<6,>=4.0.0 in /opt/conda/lib/python3.8/site-packages (from mlflow>=1.28.0->mlflow-export-import) (5.0.3)\n",
      "Requirement already satisfied: pytz<2023 in /opt/conda/lib/python3.8/site-packages (from mlflow>=1.28.0->mlflow-export-import) (2021.1)\n",
      "Requirement already satisfied: sqlalchemy<2,>=1.4.0 in /opt/conda/lib/python3.8/site-packages (from mlflow>=1.28.0->mlflow-export-import) (1.4.18)\n",
      "Requirement already satisfied: protobuf<5,>=3.12.0 in /opt/conda/lib/python3.8/site-packages (from mlflow>=1.28.0->mlflow-export-import) (3.17.3)\n",
      "Requirement already satisfied: sqlparse<1,>=0.4.0 in /opt/conda/lib/python3.8/site-packages (from mlflow>=1.28.0->mlflow-export-import) (0.4.2)\n",
      "Requirement already satisfied: Mako in /opt/conda/lib/python3.8/site-packages (from alembic<2->mlflow>=1.28.0->mlflow-export-import) (1.2.2)\n",
      "Requirement already satisfied: importlib-resources in /opt/conda/lib/python3.8/site-packages (from alembic<2->mlflow>=1.28.0->mlflow-export-import) (5.9.0)\n",
      "Requirement already satisfied: six>=1.10.0 in /opt/conda/lib/python3.8/site-packages (from databricks-cli<1,>=0.8.7->mlflow>=1.28.0->mlflow-export-import) (1.16.0)\n",
      "Requirement already satisfied: pyjwt>=1.7.0 in /opt/conda/lib/python3.8/site-packages (from databricks-cli<1,>=0.8.7->mlflow>=1.28.0->mlflow-export-import) (2.3.0)\n",
      "Requirement already satisfied: tabulate>=0.7.7 in /opt/conda/lib/python3.8/site-packages (from databricks-cli<1,>=0.8.7->mlflow>=1.28.0->mlflow-export-import) (0.8.9)\n",
      "Requirement already satisfied: oauthlib>=3.1.0 in /opt/conda/lib/python3.8/site-packages (from databricks-cli<1,>=0.8.7->mlflow>=1.28.0->mlflow-export-import) (3.2.0)\n",
      "Requirement already satisfied: websocket-client>=0.32.0 in /opt/conda/lib/python3.8/site-packages (from docker<6,>=4.0.0->mlflow>=1.28.0->mlflow-export-import) (1.0.1)\n",
      "Requirement already satisfied: Werkzeug>=2.2.2 in /opt/conda/lib/python3.8/site-packages (from Flask<3->mlflow>=1.28.0->mlflow-export-import) (2.2.2)\n",
      "Requirement already satisfied: Jinja2>=3.0 in /opt/conda/lib/python3.8/site-packages (from Flask<3->mlflow>=1.28.0->mlflow-export-import) (3.0.1)\n",
      "Requirement already satisfied: itsdangerous>=2.0 in /opt/conda/lib/python3.8/site-packages (from Flask<3->mlflow>=1.28.0->mlflow-export-import) (2.1.2)\n",
      "Requirement already satisfied: gitdb<5,>=4.0.1 in /opt/conda/lib/python3.8/site-packages (from gitpython<4,>=2.1.0->mlflow>=1.28.0->mlflow-export-import) (4.0.9)\n",
      "Requirement already satisfied: smmap<6,>=3.0.1 in /opt/conda/lib/python3.8/site-packages (from gitdb<5,>=4.0.1->gitpython<4,>=2.1.0->mlflow>=1.28.0->mlflow-export-import) (5.0.0)\n",
      "Requirement already satisfied: setuptools>=3.0 in /opt/conda/lib/python3.8/site-packages (from gunicorn<21->mlflow>=1.28.0->mlflow-export-import) (49.6.0.post20210108)\n",
      "Requirement already satisfied: zipp>=0.5 in /opt/conda/lib/python3.8/site-packages (from importlib-metadata!=4.7.0,<5,>=3.7.0->mlflow>=1.28.0->mlflow-export-import) (3.8.1)\n",
      "Requirement already satisfied: MarkupSafe>=2.0 in /opt/conda/lib/python3.8/site-packages (from Jinja2>=3.0->Flask<3->mlflow>=1.28.0->mlflow-export-import) (2.1.1)\n",
      "Requirement already satisfied: pyparsing>=2.0.2 in /opt/conda/lib/python3.8/site-packages (from packaging<22->mlflow>=1.28.0->mlflow-export-import) (2.4.7)\n",
      "Requirement already satisfied: python-dateutil>=2.7.3 in /opt/conda/lib/python3.8/site-packages (from pandas<2->mlflow>=1.28.0->mlflow-export-import) (2.8.1)\n",
      "Requirement already satisfied: prometheus-client in /opt/conda/lib/python3.8/site-packages (from prometheus-flask-exporter<1->mlflow>=1.28.0->mlflow-export-import) (0.11.0)\n",
      "Requirement already satisfied: tomli>=1.0.0 in /opt/conda/lib/python3.8/site-packages (from pytest>=7.2.0->mlflow-export-import) (2.0.1)\n",
      "Requirement already satisfied: exceptiongroup>=1.0.0rc8 in /opt/conda/lib/python3.8/site-packages (from pytest>=7.2.0->mlflow-export-import) (1.1.3)\n",
      "Requirement already satisfied: iniconfig in /opt/conda/lib/python3.8/site-packages (from pytest>=7.2.0->mlflow-export-import) (2.0.0)\n",
      "Requirement already satisfied: pluggy<2.0,>=0.12 in /opt/conda/lib/python3.8/site-packages (from pytest>=7.2.0->mlflow-export-import) (1.2.0)\n",
      "Requirement already satisfied: idna<3,>=2.5 in /opt/conda/lib/python3.8/site-packages (from requests<3,>=2.17.3->mlflow>=1.28.0->mlflow-export-import) (2.10)\n",
      "Requirement already satisfied: urllib3<1.27,>=1.21.1 in /opt/conda/lib/python3.8/site-packages (from requests<3,>=2.17.3->mlflow>=1.28.0->mlflow-export-import) (1.26.5)\n",
      "Requirement already satisfied: chardet<5,>=3.0.2 in /opt/conda/lib/python3.8/site-packages (from requests<3,>=2.17.3->mlflow>=1.28.0->mlflow-export-import) (4.0.0)\n",
      "Requirement already satisfied: certifi>=2017.4.17 in /opt/conda/lib/python3.8/site-packages (from requests<3,>=2.17.3->mlflow>=1.28.0->mlflow-export-import) (2021.5.30)\n",
      "Requirement already satisfied: greenlet!=0.4.17 in /opt/conda/lib/python3.8/site-packages (from sqlalchemy<2,>=1.4.0->mlflow>=1.28.0->mlflow-export-import) (1.1.2)\n",
      "Requirement already satisfied: pytest-metadata in /opt/conda/lib/python3.8/site-packages (from pytest-html->mlflow-export-import) (3.0.0)\n",
      "Requirement already satisfied: py>=1.8.2 in /opt/conda/lib/python3.8/site-packages (from pytest-html->mlflow-export-import) (1.11.0)\n",
      "Collecting boto3\n",
      "  Downloading boto3-1.28.30-py3-none-any.whl (135 kB)\n",
      "\u001b[K     |████████████████████████████████| 135 kB 1.3 MB/s eta 0:00:01\n",
      "\u001b[?25hCollecting botocore<1.32.0,>=1.31.30\n",
      "  Downloading botocore-1.31.30-py3-none-any.whl (11.1 MB)\n",
      "\u001b[K     |████████████████████████████████| 11.1 MB 8.8 MB/s eta 0:00:01\n",
      "\u001b[?25hCollecting jmespath<2.0.0,>=0.7.1\n",
      "  Downloading jmespath-1.0.1-py3-none-any.whl (20 kB)\n",
      "Collecting s3transfer<0.7.0,>=0.6.0\n",
      "  Downloading s3transfer-0.6.2-py3-none-any.whl (79 kB)\n",
      "\u001b[K     |████████████████████████████████| 79 kB 437 kB/s  eta 0:00:01\n",
      "\u001b[?25hRequirement already satisfied: urllib3<1.27,>=1.25.4 in /opt/conda/lib/python3.8/site-packages (from botocore<1.32.0,>=1.31.30->boto3) (1.26.5)\n",
      "Requirement already satisfied: python-dateutil<3.0.0,>=2.1 in /opt/conda/lib/python3.8/site-packages (from botocore<1.32.0,>=1.31.30->boto3) (2.8.1)\n",
      "Requirement already satisfied: six>=1.5 in /opt/conda/lib/python3.8/site-packages (from python-dateutil<3.0.0,>=2.1->botocore<1.32.0,>=1.31.30->boto3) (1.16.0)\n",
      "Installing collected packages: jmespath, botocore, s3transfer, boto3\n",
      "Successfully installed boto3-1.28.30 botocore-1.31.30 jmespath-1.0.1 s3transfer-0.6.2\n"
     ]
    }
   ],
   "source": [
    "!pip install mlflow-export-import\n",
    "!pip install boto3"
   ]
  },
  {
   "cell_type": "code",
   "execution_count": 17,
   "id": "df9e2539-d1b6-46af-9037-3f7c0f06de63",
   "metadata": {},
   "outputs": [],
   "source": [
    "import zipfile"
   ]
  },
  {
   "cell_type": "code",
   "execution_count": 18,
   "id": "dfc4eb52-95e0-4493-880d-5df4bfa8ac6f",
   "metadata": {},
   "outputs": [],
   "source": [
    "with zipfile.ZipFile(\"tmp.zip\", 'r') as zip_ref:\n",
    "    zip_ref.extractall(\"\")"
   ]
  },
  {
   "cell_type": "code",
   "execution_count": 24,
   "id": "c8681577-ef08-4013-8bc1-0c49d61782f2",
   "metadata": {},
   "outputs": [
    {
     "name": "stdout",
     "output_type": "stream",
     "text": [
      "MLflow Tracking URI: http://dognauts-gpt-mlflow-mlflow-tracking\n",
      "Options:\n",
      "  input_dir: tmp\n",
      "  experiment_name: LLM\n",
      "  import_source_tags: False\n",
      "  use_src_user_id: False\n",
      "  dst_notebook_dir: None\n",
      "in_databricks: False\n",
      "importing_into_databricks: False\n",
      "MLflowClient: http://dognauts-gpt-mlflow-mlflow-tracking\n",
      "Using existing experiment 'LLM' with location 's3://dognauts-gpt/1'\n",
      "Importing 3 runs into experiment 'LLM' from 'tmp'\n",
      "Importing run from 'tmp/09b9b2e07cbe4bfbb80e8fef0c6fe7fe'\n",
      "Using existing experiment 'LLM' with location 's3://dognauts-gpt/1'\n",
      "Imported run into 'LLM/e1f429c2fd9946889dc3e0297660541b'\n",
      "Importing run from 'tmp/6dbf1eb973e04da585ba77d35474daf5'\n",
      "Using existing experiment 'LLM' with location 's3://dognauts-gpt/1'\n",
      "Imported run into 'LLM/7a29feb048bb427995b75908a1bcc10f'\n",
      "Importing run from 'tmp/79ae14c7f1654fce9640963c0c287982'\n",
      "Using existing experiment 'LLM' with location 's3://dognauts-gpt/1'\n",
      "Imported run into 'LLM/d4aadd0473ab4badb53923a6fe917092'\n",
      "Imported 3 runs into experiment 'LLM' from 'tmp'\n"
     ]
    }
   ],
   "source": [
    "!import-experiment \\\n",
    "  --experiment-name LLM \\\n",
    "  --input-dir tmp"
   ]
  },
  {
   "cell_type": "code",
   "execution_count": 25,
   "id": "c7d42dca-6dd6-436d-aa22-60df21a71243",
   "metadata": {},
   "outputs": [
    {
     "name": "stdout",
     "output_type": "stream",
     "text": [
      "MLflow Tracking URI: http://dognauts-gpt-mlflow-mlflow-tracking\n",
      "Options:\n",
      "  input_dir: tmp\n",
      "  experiment_name: LLM_predictions\n",
      "  import_source_tags: False\n",
      "  use_src_user_id: False\n",
      "  dst_notebook_dir: None\n",
      "in_databricks: False\n",
      "importing_into_databricks: False\n",
      "MLflowClient: http://dognauts-gpt-mlflow-mlflow-tracking\n",
      "Created experiment 'LLM_predictions' with location 's3://dognauts-gpt/7'\n",
      "Importing 3 runs into experiment 'LLM_predictions' from 'tmp'\n",
      "Importing run from 'tmp/09b9b2e07cbe4bfbb80e8fef0c6fe7fe'\n",
      "Using existing experiment 'LLM_predictions' with location 's3://dognauts-gpt/7'\n",
      "Imported run into 'LLM_predictions/f4bc6cbf1c5a49cf81b6b26cc4fc8517'\n",
      "Importing run from 'tmp/6dbf1eb973e04da585ba77d35474daf5'\n",
      "Using existing experiment 'LLM_predictions' with location 's3://dognauts-gpt/7'\n",
      "Imported run into 'LLM_predictions/4c0b2c6d735e468497000fa937635b4c'\n",
      "Importing run from 'tmp/79ae14c7f1654fce9640963c0c287982'\n",
      "Using existing experiment 'LLM_predictions' with location 's3://dognauts-gpt/7'\n",
      "Imported run into 'LLM_predictions/24bcf173a3984b48847e07a773d762ba'\n",
      "Imported 3 runs into experiment 'LLM_predictions' from 'tmp'\n"
     ]
    }
   ],
   "source": [
    "!import-experiment \\\n",
    "  --experiment-name LLM_predictions \\\n",
    "  --input-dir tmp"
   ]
  },
  {
   "cell_type": "code",
   "execution_count": 26,
   "id": "7ce08a62-8e85-4fc7-9ce3-0653704a40f8",
   "metadata": {},
   "outputs": [
    {
     "name": "stdout",
     "output_type": "stream",
     "text": [
      "MLflow Tracking URI: http://dognauts-gpt-mlflow-mlflow-tracking\n",
      "Options:\n",
      "  input_dir: tmp\n",
      "  experiment_name: compare_models\n",
      "  import_source_tags: False\n",
      "  use_src_user_id: False\n",
      "  dst_notebook_dir: None\n",
      "in_databricks: False\n",
      "importing_into_databricks: False\n",
      "MLflowClient: http://dognauts-gpt-mlflow-mlflow-tracking\n",
      "Created experiment 'compare_models' with location 's3://dognauts-gpt/11'\n",
      "Importing 3 runs into experiment 'compare_models' from 'tmp'\n",
      "Importing run from 'tmp/09b9b2e07cbe4bfbb80e8fef0c6fe7fe'\n",
      "Using existing experiment 'compare_models' with location 's3://dognauts-gpt/11'\n",
      "Imported run into 'compare_models/802afacf795f48509e72c3b8472e5440'\n",
      "Importing run from 'tmp/6dbf1eb973e04da585ba77d35474daf5'\n",
      "Using existing experiment 'compare_models' with location 's3://dognauts-gpt/11'\n",
      "Imported run into 'compare_models/54771f1638cc49218e1338be71cc2cee'\n",
      "Importing run from 'tmp/79ae14c7f1654fce9640963c0c287982'\n",
      "Using existing experiment 'compare_models' with location 's3://dognauts-gpt/11'\n",
      "Imported run into 'compare_models/c6cae3f1f8dd47e59f840aa81876f220'\n",
      "Imported 3 runs into experiment 'compare_models' from 'tmp'\n"
     ]
    }
   ],
   "source": [
    "!import-experiment \\\n",
    "  --experiment-name compare_models \\\n",
    "  --input-dir tmp"
   ]
  },
  {
   "cell_type": "code",
   "execution_count": null,
   "id": "fe95ed9c-81a9-43a4-bdd6-aec3544b82db",
   "metadata": {},
   "outputs": [],
   "source": []
  }
 ],
 "metadata": {
  "kernelspec": {
   "display_name": "Python 3",
   "language": "python",
   "name": "python3"
  },
  "language_info": {
   "codemirror_mode": {
    "name": "ipython",
    "version": 3
   },
   "file_extension": ".py",
   "mimetype": "text/x-python",
   "name": "python",
   "nbconvert_exporter": "python",
   "pygments_lexer": "ipython3",
   "version": "3.8.10"
  }
 },
 "nbformat": 4,
 "nbformat_minor": 5
}
